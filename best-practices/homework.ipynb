{
 "cells": [
  {
   "cell_type": "markdown",
   "metadata": {},
   "source": [
    "## Q1. Refactoring\n",
    "#### Answer: \n",
    "    if __name__ == '__main__':\n",
    "    year = int(sys.argv[1])\n",
    "    month = int(sys.argv[2])\n",
    "    main(year, month)"
   ]
  },
  {
   "cell_type": "markdown",
   "metadata": {},
   "source": [
    "## Q2. Installing pytest\n",
    "#### Answer: \n",
    "    __init__.py"
   ]
  },
  {
   "cell_type": "markdown",
   "metadata": {},
   "source": [
    "## Q3. Writing first unit test\n",
    "#### Answer: 2 rows should be in the expected dataframe"
   ]
  },
  {
   "cell_type": "markdown",
   "metadata": {},
   "source": [
    "## Q4. Mocking S3 with Localstack\n",
    "#### Answer: we need to use\n",
    "                --endpoint-url"
   ]
  },
  {
   "cell_type": "markdown",
   "metadata": {},
   "source": [
    "## Q5. Creating test data\n",
    "#### Answer: size of the file 3620\n",
    "![alt text](image-1.png)"
   ]
  },
  {
   "cell_type": "markdown",
   "metadata": {},
   "source": [
    "## Q6. Finish the integration test\n",
    "#### Answer: the sum of predicted durations is 36.28\n",
    "![alt text](image-2.png)"
   ]
  }
 ],
 "metadata": {
  "language_info": {
   "name": "python"
  }
 },
 "nbformat": 4,
 "nbformat_minor": 2
}
