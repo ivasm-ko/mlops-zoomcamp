{
 "cells": [
  {
   "cell_type": "markdown",
   "id": "f1a920e6",
   "metadata": {},
   "source": [
    "## Q2. Download and preprocess the data\n",
    "#### Answer:  4 files were saved to OUTPUT_FOLDER"
   ]
  },
  {
   "cell_type": "markdown",
   "id": "f90a8ba6",
   "metadata": {},
   "source": [
    "## Q3. Train a model with autolog\n",
    "#### Answer: min_samples_split parameter: 2"
   ]
  },
  {
   "cell_type": "markdown",
   "id": "da75784e",
   "metadata": {},
   "source": [
    "## Q4. Launch the tracking server locally\n",
    "#### Answer: default-artifact-root"
   ]
  },
  {
   "cell_type": "markdown",
   "id": "72439618",
   "metadata": {},
   "source": [
    "## Q5. Tune model hyperparameters\n",
    "#### Answer: \n",
    "#####   The list of hyperparameters that are passed to the objective function during the optimization:\n",
    "            mlflow.log_metric(\"rmse\", rmse)\n",
    "            mlflow.log_params(params)\n",
    "\n",
    "#####   The best validation RMSE 5.335"
   ]
  },
  {
   "cell_type": "markdown",
   "id": "a5fe3000",
   "metadata": {},
   "source": [
    "## Q6. Promote the best model to the model registry\n",
    "#### Answer: Test RMSE of the best model is 5.567"
   ]
  }
 ],
 "metadata": {
  "kernelspec": {
   "display_name": "Python 3 (ipykernel)",
   "language": "python",
   "name": "python3"
  },
  "language_info": {
   "codemirror_mode": {
    "name": "ipython",
    "version": 3
   },
   "file_extension": ".py",
   "mimetype": "text/x-python",
   "name": "python",
   "nbconvert_exporter": "python",
   "pygments_lexer": "ipython3",
   "version": "3.9.19"
  }
 },
 "nbformat": 4,
 "nbformat_minor": 5
}
